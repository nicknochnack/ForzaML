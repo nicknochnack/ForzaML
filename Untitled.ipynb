{
 "cells": [
  {
   "cell_type": "code",
   "execution_count": 1,
   "id": "13524582-03a6-41b9-976d-08189530b83d",
   "metadata": {},
   "outputs": [],
   "source": [
    "import tensorflow as tf"
   ]
  },
  {
   "cell_type": "code",
   "execution_count": 32,
   "id": "458392d1-d41a-4c00-9a06-1313a70bc24d",
   "metadata": {},
   "outputs": [],
   "source": [
    "d = {\"a\": 1, \"b\": 3, \"c\": 10}\n",
    "dataset = tf.data.Dataset.from_tensor_slices([\"a\", \"b\", \"c\"])"
   ]
  },
  {
   "cell_type": "code",
   "execution_count": 33,
   "id": "8d63b68a-1ce6-41b1-842d-6c3b7bf3f125",
   "metadata": {},
   "outputs": [
    {
     "data": {
      "text/plain": [
       "b'a'"
      ]
     },
     "execution_count": 33,
     "metadata": {},
     "output_type": "execute_result"
    }
   ],
   "source": [
    "dataset.as_numpy_iterator().next()"
   ]
  },
  {
   "cell_type": "code",
   "execution_count": 36,
   "id": "646ee00f-24cb-4291-a6a8-53a8b688760b",
   "metadata": {
    "tags": []
   },
   "outputs": [],
   "source": [
    "def parse(s):\n",
    "    return s+'abcbjhjhjh'\n",
    "\n",
    "dataset = dataset.map(lambda x: tf.py_function(parse, [x], (tf.string)))"
   ]
  },
  {
   "cell_type": "code",
   "execution_count": 37,
   "id": "ef915137-0045-445f-a492-8d32770b0f8b",
   "metadata": {},
   "outputs": [
    {
     "data": {
      "text/plain": [
       "b'aabcbjhjhjh'"
      ]
     },
     "execution_count": 37,
     "metadata": {},
     "output_type": "execute_result"
    }
   ],
   "source": [
    "dataset.as_numpy_iterator().next()"
   ]
  },
  {
   "cell_type": "code",
   "execution_count": null,
   "id": "572b4f9b-7f3d-49d8-af3b-1007fb668e96",
   "metadata": {},
   "outputs": [],
   "source": [
    "\n",
    "\n",
    "\n",
    "for element in dataset:\n",
    "  print(element[1].numpy()) # prints 1, 3, 10"
   ]
  }
 ],
 "metadata": {
  "kernelspec": {
   "display_name": "forza",
   "language": "python",
   "name": "forza"
  },
  "language_info": {
   "codemirror_mode": {
    "name": "ipython",
    "version": 3
   },
   "file_extension": ".py",
   "mimetype": "text/x-python",
   "name": "python",
   "nbconvert_exporter": "python",
   "pygments_lexer": "ipython3",
   "version": "3.9.7"
  }
 },
 "nbformat": 4,
 "nbformat_minor": 5
}
